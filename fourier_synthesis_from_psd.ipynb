{
 "cells": [
  {
   "cell_type": "markdown",
   "source": [
    "# Fourier Synthesis with tabulated PSD\n",
    "\n",
    "Generate a random topography by fourier filtering using a tabulated PSD for the variance of each Fourier component.\n"
   ],
   "metadata": {
    "collapsed": false,
    "pycharm": {
     "name": "#%% md\n"
    }
   }
  },
  {
   "cell_type": "markdown",
   "source": [
    "press Shift + enter to execute a code block"
   ],
   "metadata": {
    "collapsed": false,
    "pycharm": {
     "name": "#%% md\n"
    }
   }
  },
  {
   "cell_type": "code",
   "execution_count": 14,
   "outputs": [],
   "source": [
    "import numpy as np\n",
    "from fourier_synthesis import fourier_synthesis\n",
    "import matplotlib.pyplot as plt\n",
    "import scipy.interpolate\n"
   ],
   "metadata": {
    "collapsed": false,
    "pycharm": {
     "name": "#%%\n"
    }
   }
  },
  {
   "cell_type": "markdown",
   "source": [
    "upload your 1D PSD\n",
    "\n",
    "see C1D.txt for a file format example\n",
    "\n",
    "And load the data into this notebook"
   ],
   "metadata": {
    "collapsed": false,
    "pycharm": {
     "name": "#%% md\n"
    }
   }
  },
  {
   "cell_type": "code",
   "execution_count": 15,
   "outputs": [],
   "source": [
    "data = np.loadtxt(\"C1D.txt\")\n",
    "q = data[:,0]\n",
    "C1D = data[:,1]"
   ],
   "metadata": {
    "collapsed": false,
    "pycharm": {
     "name": "#%%\n"
    }
   }
  },
  {
   "cell_type": "markdown",
   "source": [
    "We convert the 1D PSD to the isotropic PSD"
   ],
   "metadata": {
    "collapsed": false,
    "pycharm": {
     "name": "#%% md\n"
    }
   }
  },
  {
   "cell_type": "code",
   "execution_count": 16,
   "metadata": {
    "collapsed": true
   },
   "outputs": [
    {
     "name": "stderr",
     "output_type": "stream",
     "text": [
      "<ipython-input-16-d7a692a6fe5c>:2: RuntimeWarning: divide by zero encountered in true_divide\n",
      "  Ciso = C1D * np.pi / q\n"
     ]
    }
   ],
   "source": [
    "# STMP-PNAS equation (5)\n",
    "Ciso = C1D * np.pi / q\n",
    "\n",
    "if q[0] == 0:\n",
    "    Ciso[0] = Ciso[1] # instead of infinity\n",
    "\n",
    "# More elaborate alternative\n",
    "# Dalvi formula 11\n",
    "#Ciso = C1D * np.pi / (q * np.sqrt(1 - (q / qs)**2))\n"
   ]
  },
  {
   "cell_type": "code",
   "execution_count": 17,
   "outputs": [],
   "source": [
    "interpolator = scipy.interpolate.interp1d(q, Ciso,\n",
    "                                          bounds_error=False,\n",
    "                                          fill_value=(0,0))"
   ],
   "metadata": {
    "collapsed": false,
    "pycharm": {
     "name": "#%%\n"
    }
   }
  },
  {
   "cell_type": "code",
   "execution_count": 19,
   "outputs": [],
   "source": [
    "heights = fourier_synthesis(\n",
    "    nb_grid_pts=(4096,4096),\n",
    "    physical_sizes=(1e-5, 1e-5),\n",
    "    psd=interpolator,\n",
    "    # Optional, this will modify the PSD by adding some cutoffs:\n",
    "    #short_cutoff=4,\n",
    "    )"
   ],
   "metadata": {
    "collapsed": false,
    "pycharm": {
     "name": "#%%\n"
    }
   }
  },
  {
   "cell_type": "code",
   "execution_count": 20,
   "outputs": [],
   "source": [
    "# save and go back to file browser to download !\n",
    "np.savetxt(\"topography.txt\", heights)\n"
   ],
   "metadata": {
    "collapsed": false,
    "pycharm": {
     "name": "#%%\n"
    }
   }
  },
  {
   "cell_type": "markdown",
   "source": [
    "# Further tricks:\n",
    "\n",
    " To load german csvs:\n",
    "```python\n",
    "def parse_comma_decimal(s):\n",
    " return float(s.replace(b\",\", b\".\"))\n",
    "\n",
    "def load_csv(file):\n",
    " return np.loadtxt(file,\n",
    "        delimiter=\";\",converters={0: parse_comma_decimal, 1:parse_comma_decimal },)\n",
    "```\n",
    "\n",
    "\n"
   ],
   "metadata": {
    "collapsed": false,
    "pycharm": {
     "name": "#%% md\n"
    }
   }
  }
 ],
 "metadata": {
  "kernelspec": {
   "display_name": "Python 3",
   "language": "python",
   "name": "python3"
  },
  "language_info": {
   "codemirror_mode": {
    "name": "ipython",
    "version": 2
   },
   "file_extension": ".py",
   "mimetype": "text/x-python",
   "name": "python",
   "nbconvert_exporter": "python",
   "pygments_lexer": "ipython2",
   "version": "2.7.6"
  }
 },
 "nbformat": 4,
 "nbformat_minor": 0
}