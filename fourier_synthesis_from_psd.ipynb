{
 "cells": [
  {
   "cell_type": "markdown",
   "source": [
    "press Shift + enter to execute a code block"
   ],
   "metadata": {
    "collapsed": false,
    "pycharm": {
     "name": "#%% md\n"
    }
   }
  },
  {
   "cell_type": "code",
   "execution_count": 1,
   "outputs": [],
   "source": [
    "import numpy as np\n",
    "from fourier_synthesis import fourier_synthesis\n",
    "import matplotlib.pyplot as plt\n",
    "import scipy.interpolate"
   ],
   "metadata": {
    "collapsed": false,
    "pycharm": {
     "name": "#%%\n"
    }
   }
  },
  {
   "cell_type": "code",
   "execution_count": 1,
   "outputs": [],
   "source": [],
   "metadata": {
    "collapsed": false,
    "pycharm": {
     "name": "#%%\n"
    }
   }
  },
  {
   "cell_type": "markdown",
   "source": [
    "upload your 1D PSD\n",
    "\n",
    "see C1D.txt for a file format example"
   ],
   "metadata": {
    "collapsed": false,
    "pycharm": {
     "name": "#%% md\n"
    }
   }
  },
  {
   "cell_type": "code",
   "execution_count": 2,
   "outputs": [],
   "source": [
    "data = np.loadtxt(\"C1D.txt\")\n",
    "\n",
    "q = data[:,0]\n",
    "C1D = data[:,1]"
   ],
   "metadata": {
    "collapsed": false,
    "pycharm": {
     "name": "#%%\n"
    }
   }
  },
  {
   "cell_type": "markdown",
   "source": [
    "We convert the 1D PSD to the isotropic PSD"
   ],
   "metadata": {
    "collapsed": false,
    "pycharm": {
     "name": "#%% md\n"
    }
   }
  },
  {
   "cell_type": "code",
   "execution_count": 3,
   "metadata": {
    "collapsed": true
   },
   "outputs": [
    {
     "name": "stderr",
     "output_type": "stream",
     "text": [
      "<ipython-input-3-d7a692a6fe5c>:2: RuntimeWarning: divide by zero encountered in true_divide\n",
      "  Ciso = C1D * np.pi / q\n"
     ]
    }
   ],
   "source": [
    "# STMP-PNAS equation (5)\n",
    "Ciso = C1D * np.pi / q\n",
    "\n",
    "if q[0] == 0:\n",
    "    Ciso[0] = Ciso[1] # instead of infinity\n",
    "\n",
    "# More elaborate alternative\n",
    "# Dalvi formula 11\n",
    "#Ciso = C1D * np.pi / (q * np.sqrt(1 - (q / qs)**2))\n"
   ]
  },
  {
   "cell_type": "code",
   "execution_count": 4,
   "outputs": [],
   "source": [
    "from fourier_synthesis import self_affine_prefactor\n",
    "\n",
    "interpolator = scipy.interpolate.interp1d(q, Ciso,\n",
    "                                          bounds_error=False,\n",
    "                                          fill_value=(0,0))\n",
    "\n",
    "def interpolate(q):\n",
    "    return self_affine_prefactor((4096, 4096),(1e-5, 1e-5), 0.8, rms_height=1,\n",
    "                                    short_cutoff=4,\n",
    "                                    long_cutoff=1024)**2 * q**(- 2 - 2 * 0.8)"
   ],
   "metadata": {
    "collapsed": false,
    "pycharm": {
     "name": "#%%\n"
    }
   }
  },
  {
   "cell_type": "code",
   "execution_count": 6,
   "outputs": [
    {
     "data": {
      "text/plain": "[<matplotlib.lines.Line2D at 0x11a73a100>]"
     },
     "execution_count": 6,
     "metadata": {},
     "output_type": "execute_result"
    },
    {
     "data": {
      "text/plain": "<Figure size 432x288 with 1 Axes>",
      "image/png": "[encoded data removed]"
     },
     "metadata": {
      "needs_background": "light"
     },
     "output_type": "display_data"
    }
   ],
   "source": [
    "fig, ax = plt.subplots()\n",
    "\n",
    "ax.loglog(q, Ciso)\n",
    "ax.loglog(q, interpolator(q))"
   ],
   "metadata": {
    "collapsed": false,
    "pycharm": {
     "name": "#%%\n"
    }
   }
  },
  {
   "cell_type": "code",
   "execution_count": 7,
   "outputs": [],
   "source": [
    "\n",
    "heights = fourier_synthesis(\n",
    "    nb_grid_pts=(4096,4096),\n",
    "    physical_sizes=(1e-5, 1e-5),\n",
    "    psd=interpolator,\n",
    "    # Optional:\n",
    "    #short_cutoff=4,\n",
    "    #long_cutoff=1024\n",
    "    )"
   ],
   "metadata": {
    "collapsed": false,
    "pycharm": {
     "name": "#%%\n"
    }
   }
  },
  {
   "cell_type": "code",
   "execution_count": null,
   "outputs": [],
   "source": [
    "# save and go back to file browser to download !\n",
    "np.savetxt(\"topography.txt\", heights)\n"
   ],
   "metadata": {
    "collapsed": false,
    "pycharm": {
     "name": "#%%\n"
    }
   }
  },
  {
   "cell_type": "code",
   "execution_count": 8,
   "outputs": [],
   "source": [
    "from SurfaceTopography import Topography\n",
    "\n",
    "t = Topography(heights,(1e-5, 1e-5), periodic=True)"
   ],
   "metadata": {
    "collapsed": false,
    "pycharm": {
     "name": "#%%\n"
    }
   }
  },
  {
   "cell_type": "code",
   "execution_count": 11,
   "outputs": [
    {
     "data": {
      "text/plain": "(1e-39, 2.994178545236603e-21)"
     },
     "execution_count": 11,
     "metadata": {},
     "output_type": "execute_result"
    },
    {
     "data": {
      "text/plain": "<Figure size 432x288 with 1 Axes>",
      "image/png": "[encoded data removed]"
     },
     "metadata": {
      "needs_background": "light"
     },
     "output_type": "display_data"
    }
   ],
   "source": [
    "fig, ax = plt.subplots()\n",
    "\n",
    "ax.plot(q, Ciso)\n",
    "ax.plot(*t.power_spectrum_from_area(), \"+\")\n",
    "\n",
    "ax.set_yscale(\"log\")\n",
    "ax.set_xscale(\"log\")\n",
    "\n",
    "ax.set_ylim(bottom=1e-39)"
   ],
   "metadata": {
    "collapsed": false,
    "pycharm": {
     "name": "#%%\n"
    }
   }
  },
  {
   "cell_type": "code",
   "execution_count": 13,
   "outputs": [
    {
     "data": {
      "text/plain": "(1e-39, 2.7002521710575756e-18)"
     },
     "execution_count": 13,
     "metadata": {},
     "output_type": "execute_result"
    },
    {
     "data": {
      "text/plain": "<Figure size 432x288 with 1 Axes>",
      "image/png": "[encoded data removed]"
     },
     "metadata": {
      "needs_background": "light"
     },
     "output_type": "display_data"
    }
   ],
   "source": [
    "fig, ax = plt.subplots()\n",
    "\n",
    "ax.plot(q, C1D)\n",
    "ax.plot(*t.power_spectrum_from_profile(), \"+\")\n",
    "\n",
    "ax.set_yscale(\"log\")\n",
    "ax.set_xscale(\"log\")\n",
    "\n",
    "ax.set_ylim(bottom=1e-39)\n"
   ],
   "metadata": {
    "collapsed": false,
    "pycharm": {
     "name": "#%%\n"
    }
   }
  },
  {
   "cell_type": "code",
   "execution_count": null,
   "outputs": [],
   "source": [
    "_q, _C1D = t.power_spectrum_from_profile()\n"
   ],
   "metadata": {
    "collapsed": false,
    "pycharm": {
     "name": "#%%\n"
    }
   }
  },
  {
   "cell_type": "markdown",
   "source": [
    "# Further tricks:\n",
    "\n",
    " To load german csvs:\n",
    "```python\n",
    "def parse_comma_decimal(s):\n",
    " return float(s.replace(b\",\", b\".\"))\n",
    "\n",
    "def load_csv(file):\n",
    " return np.loadtxt(file,\n",
    "        delimiter=\";\",converters={0: parse_comma_decimal, 1:parse_comma_decimal },)\n",
    "```\n",
    "\n",
    "\n"
   ],
   "metadata": {
    "collapsed": false,
    "pycharm": {
     "name": "#%% md\n"
    }
   }
  }
 ],
 "metadata": {
  "kernelspec": {
   "display_name": "Python 3",
   "language": "python",
   "name": "python3"
  },
  "language_info": {
   "codemirror_mode": {
    "name": "ipython",
    "version": 2
   },
   "file_extension": ".py",
   "mimetype": "text/x-python",
   "name": "python",
   "nbconvert_exporter": "python",
   "pygments_lexer": "ipython2",
   "version": "2.7.6"
  }
 },
 "nbformat": 4,
 "nbformat_minor": 0
}